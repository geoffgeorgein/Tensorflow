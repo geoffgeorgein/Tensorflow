{
  "nbformat": 4,
  "nbformat_minor": 0,
  "metadata": {
    "colab": {
      "name": "Weed2.ipynb",
      "provenance": [],
      "collapsed_sections": [],
      "authorship_tag": "ABX9TyPm/CDwWq9z3e5YuUJEzddr",
      "include_colab_link": true
    },
    "kernelspec": {
      "name": "python3",
      "display_name": "Python 3"
    },
    "language_info": {
      "name": "python"
    },
    "accelerator": "GPU"
  },
  "cells": [
    {
      "cell_type": "markdown",
      "metadata": {
        "id": "view-in-github",
        "colab_type": "text"
      },
      "source": [
        "<a href=\"https://colab.research.google.com/github/geoffgeorgein/Tensorflow/blob/master/Weed2.ipynb\" target=\"_parent\"><img src=\"https://colab.research.google.com/assets/colab-badge.svg\" alt=\"Open In Colab\"/></a>"
      ]
    },
    {
      "cell_type": "code",
      "execution_count": null,
      "metadata": {
        "id": "aQ6iMQAzyl-U"
      },
      "outputs": [],
      "source": [
        "\n"
      ]
    },
    {
      "cell_type": "code",
      "source": [
        "import numpy as np\n",
        "import pandas as pd\n",
        "import matplotlib.pyplot as plt\n",
        "import seaborn as sns\n",
        "import cv2\n",
        "import os\n",
        "\n",
        "from tqdm import tqdm\n",
        "from random import shuffle\n",
        "from sklearn.metrics import confusion_matrix\n",
        "from sklearn.model_selection import train_test_split  \n",
        "from keras.utils.np_utils import to_categorical\n",
        "from keras.models import Sequential, load_model\n",
        "from keras.layers import Dense, Dropout, Flatten, Conv2D, MaxPool2D, BatchNormalization\n",
        "from tensorflow.keras.optimizers import Adam \n",
        "from keras.preprocessing.image import ImageDataGenerator\n",
        "from keras.callbacks import ModelCheckpoint, ReduceLROnPlateau\n",
        "from keras import regularizers\n",
        "\n",
        "\n",
        "IMAGE_SIZE= 200\n",
        "species = ['weed','crop']\n",
        "\n",
        "data_dir = '/content/sample_data'\n",
        "train_dir = os.path.join(data_dir, 'train')\n",
        "test_dir = os.path.join(data_dir, 'test')\n",
        "train_data = []\n",
        "999\n",
        "for species_id, sp in enumerate(species):\n",
        "    for file in os.listdir(os.path.join(train_dir, sp)):\n",
        "        train_data.append(['train/{}/{}'.format(sp, file), species_id, sp])\n",
        "        \n",
        "train = pd.DataFrame(train_data, columns=['File', 'SpeciesId','Species'])\n",
        "train.head()\n",
        "SEED = 42\n",
        "train = train.sample(frac=1, random_state=SEED) \n",
        "train.index = np.arange(len(train)) # Reset indices\n",
        "train.head()\n",
        "test_data = []\n",
        "for file in os.listdir(test_dir):\n",
        "    test_data.append(['test/{}'.format(file), file])\n",
        "test = pd.DataFrame(test_data, columns=['Filepath', 'File'])\n",
        "test.head()\n",
        "#IMAGE_SIZE = 200\n",
        "\n",
        "def read_image(filepath):\n",
        "    return cv2.imread(os.path.join(data_dir, filepath)) # Loading a color image is the default flag\n",
        "# Resize image to target size\n",
        "\n",
        "try:\n",
        "  def resize_image(image, image_size):\n",
        "      return cv2.resize(image.copy(), image_size, interpolation=cv2.INTER_AREA)\n",
        "\n",
        "\n",
        "except:\n",
        "    pass\n",
        "\n",
        "X_train = np.zeros((train.shape[0], IMAGE_SIZE, IMAGE_SIZE, 3))\n",
        "\n",
        "\n",
        "for i, file in tqdm(enumerate(train['File'].values)):\n",
        "    image = read_image(file)\n",
        "    #image_segmented = segment_image(image)\n",
        "    X_train[i] = resize_image(image, (IMAGE_SIZE, IMAGE_SIZE))\n",
        "# Normalize the data\n",
        "X_train = X_train / 255.\n",
        "print('Train Shape: {}'.format(X_train.shape))\n",
        "Y_train = train['SpeciesId'].values\n",
        "Y_train = to_categorical(Y_train, num_classes=2)\n",
        "BATCH_SIZE = 5\n",
        "EPOCHS = 12\n",
        "\n",
        "# Split the train and validation sets \n",
        "X_train, X_val, Y_train, Y_val = train_test_split(X_train, Y_train, test_size=0.4, random_state=SEED)\n",
        "\n",
        "annealer = ReduceLROnPlateau(monitor='val_acc', factor=0.5, patience=5, verbose=1, min_lr=1e-5)\n",
        "def construct_model():\n",
        "\tmodel = Sequential()\n",
        "\n",
        "\tmodel.add(Conv2D(filters=32, kernel_size=(3, 3), strides=(1, 1), input_shape=(IMAGE_SIZE, IMAGE_SIZE, 3),\n",
        "\t\t        activation='relu'))\n",
        "\tmodel.add(BatchNormalization()) # Normalize the activations of the previous layer at each batch\n",
        "\tmodel.add(Conv2D(filters=32, kernel_size=(3, 3), strides=(1, 1), activation='relu'))\n",
        "\t#model.add(BatchNormalization())\n",
        "\tmodel.add(MaxPool2D(pool_size=(2, 2), strides=(2, 2)))\n",
        "\n",
        "\tmodel.add(Conv2D(filters=64, kernel_size=(3, 3), strides=(1, 1), activation='relu'))\n",
        "\tmodel.add(BatchNormalization())\n",
        "\tmodel.add(Conv2D(filters=64, kernel_size=(3, 3), strides=(1, 1), activation='relu'))\n",
        "\t#model.add(BatchNormalization())\n",
        "\tmodel.add(MaxPool2D(pool_size=(2, 2), strides=(2, 2)))\n",
        "\n",
        "\tmodel.add(Conv2D(filters=128, kernel_size=(3, 3), strides=(1, 1), activation='relu'))\n",
        "\tmodel.add(BatchNormalization())\n",
        "\tmodel.add(Conv2D(filters=128, kernel_size=(3, 3), strides=(1, 1), activation='relu'))\n",
        "\t#model.add(BatchNormalization())\n",
        "\tmodel.add(MaxPool2D(pool_size=(2, 2), strides=(2, 2)))\n",
        "\n",
        "\tmodel.add(Conv2D(filters=256, kernel_size=(3, 3), strides=(1, 1), activation='relu'))\n",
        "\tmodel.add(BatchNormalization())\n",
        "\tmodel.add(Conv2D(filters=256, kernel_size=(3, 3), strides=(1, 1), activation='relu'))\n",
        "\t#model.add(BatchNormalization())\n",
        "\tmodel.add(MaxPool2D(pool_size=(2, 2), strides=(2, 2)))\n",
        "\n",
        "\tmodel.add(Flatten()) # Flatten the input\n",
        "\tmodel.add(Dense(256, activation='relu'))\n",
        "\tmodel.add(Dense(2, activation='softmax', \tkernel_regularizer=regularizers.l2(0.01)))\n",
        "\t# Configure the learning process\n",
        "\t# The loss function is the objective that the model will try to minimize\n",
        "\t# For any classification problem, use accuracy metric\n",
        "\toptimizer = Adam(lr=0.0001, beta_1=0.9, beta_2=0.999, epsilon=0.1, decay=0.0)\n",
        "\tmodel.compile(loss='categorical_crossentropy', optimizer=optimizer, metrics=['accuracy'])\n",
        "\n",
        "\tmodel.summary()\n",
        "\t\n",
        "\treturn model\n",
        "model = construct_model()\n",
        "print(model) \n",
        "model.fit(X_train, Y_train,batch_size=BATCH_SIZE,epochs=EPOCHS,verbose=1,callbacks=[annealer], validation_data=(X_val, Y_val))\n",
        "final_loss, final_accuracy = model.evaluate(X_val, Y_val, verbose=0)\n",
        "\n",
        "print('Final Loss: {}, Final Accuracy: {}'.format(final_loss, final_accuracy)) \n",
        "model.save('potmodel.h5')\n",
        "\n",
        "\n",
        "\n",
        "'''\n",
        "model=load_model('newmodel.h5')\n",
        "img = cv2.imread(\"./test/weed (1).jpg\")\n",
        "img = cv2.resize(img,(IMAGE_SIZE,IMAGE_SIZE))\n",
        "img = img.reshape(1,IMAGE_SIZE,IMAGE_SIZE,3)\n",
        "print(model.predict([img])[0])\n",
        "\n",
        "\n",
        "Y_pred = model.predict(X_val)\n",
        "\n",
        "Y_pred = np.argmax(Y_pred, axis=1)\n",
        "Y_true = np.argmax(Y_val, axis=1)\n",
        "\n",
        "cm = confusion_matrix(Y_true, Y_pred)\n",
        "plt.figure(figsize=(12, 12))\n",
        "\n",
        "ax = sns.heatmap(cm, cmap=plt.cm.Greens, annot=True, square=True, xticklabels=species, yticklabels=species)\n",
        "ax.set_ylabel('Actual', fontsize=40)\n",
        "ax.set_xlabel('Predicted', fontsize=40)\n",
        "plt.show()'''\n",
        "\n"
      ],
      "metadata": {
        "colab": {
          "base_uri": "https://localhost:8080/",
          "height": 1000
        },
        "id": "hy3BhvwUynQj",
        "outputId": "41a3542b-7991-4866-c050-896f5a0939c4"
      },
      "execution_count": 1,
      "outputs": [
        {
          "output_type": "stream",
          "name": "stderr",
          "text": [
            "1464it [00:06, 215.41it/s]\n"
          ]
        },
        {
          "output_type": "stream",
          "name": "stdout",
          "text": [
            "Train Shape: (1464, 200, 200, 3)\n",
            "Model: \"sequential\"\n",
            "_________________________________________________________________\n",
            " Layer (type)                Output Shape              Param #   \n",
            "=================================================================\n",
            " conv2d (Conv2D)             (None, 198, 198, 32)      896       \n",
            "                                                                 \n",
            " batch_normalization (BatchN  (None, 198, 198, 32)     128       \n",
            " ormalization)                                                   \n",
            "                                                                 \n",
            " conv2d_1 (Conv2D)           (None, 196, 196, 32)      9248      \n",
            "                                                                 \n",
            " max_pooling2d (MaxPooling2D  (None, 98, 98, 32)       0         \n",
            " )                                                               \n",
            "                                                                 \n",
            " conv2d_2 (Conv2D)           (None, 96, 96, 64)        18496     \n",
            "                                                                 \n",
            " batch_normalization_1 (Batc  (None, 96, 96, 64)       256       \n",
            " hNormalization)                                                 \n",
            "                                                                 \n",
            " conv2d_3 (Conv2D)           (None, 94, 94, 64)        36928     \n",
            "                                                                 \n",
            " max_pooling2d_1 (MaxPooling  (None, 47, 47, 64)       0         \n",
            " 2D)                                                             \n",
            "                                                                 \n",
            " conv2d_4 (Conv2D)           (None, 45, 45, 128)       73856     \n",
            "                                                                 \n",
            " batch_normalization_2 (Batc  (None, 45, 45, 128)      512       \n",
            " hNormalization)                                                 \n",
            "                                                                 \n",
            " conv2d_5 (Conv2D)           (None, 43, 43, 128)       147584    \n",
            "                                                                 \n",
            " max_pooling2d_2 (MaxPooling  (None, 21, 21, 128)      0         \n",
            " 2D)                                                             \n",
            "                                                                 \n",
            " conv2d_6 (Conv2D)           (None, 19, 19, 256)       295168    \n",
            "                                                                 \n",
            " batch_normalization_3 (Batc  (None, 19, 19, 256)      1024      \n",
            " hNormalization)                                                 \n",
            "                                                                 \n",
            " conv2d_7 (Conv2D)           (None, 17, 17, 256)       590080    \n",
            "                                                                 \n",
            " max_pooling2d_3 (MaxPooling  (None, 8, 8, 256)        0         \n",
            " 2D)                                                             \n",
            "                                                                 \n",
            " flatten (Flatten)           (None, 16384)             0         \n",
            "                                                                 \n",
            " dense (Dense)               (None, 256)               4194560   \n",
            "                                                                 \n",
            " dense_1 (Dense)             (None, 2)                 514       \n",
            "                                                                 \n",
            "=================================================================\n",
            "Total params: 5,369,250\n",
            "Trainable params: 5,368,290\n",
            "Non-trainable params: 960\n",
            "_________________________________________________________________\n"
          ]
        },
        {
          "output_type": "stream",
          "name": "stderr",
          "text": [
            "/usr/local/lib/python3.7/dist-packages/keras/optimizer_v2/adam.py:105: UserWarning: The `lr` argument is deprecated, use `learning_rate` instead.\n",
            "  super(Adam, self).__init__(name, **kwargs)\n"
          ]
        },
        {
          "output_type": "stream",
          "name": "stdout",
          "text": [
            "<keras.engine.sequential.Sequential object at 0x7f757904b890>\n",
            "Epoch 1/16\n",
            "176/176 [==============================] - ETA: 0s - loss: 0.4117 - accuracy: 0.8474WARNING:tensorflow:Learning rate reduction is conditioned on metric `val_acc` which is not available. Available metrics are: loss,accuracy,val_loss,val_accuracy,lr\n",
            "176/176 [==============================] - 26s 86ms/step - loss: 0.4117 - accuracy: 0.8474 - val_loss: 0.7927 - val_accuracy: 0.4300 - lr: 1.0000e-04\n",
            "Epoch 2/16\n",
            "175/176 [============================>.] - ETA: 0s - loss: 0.1517 - accuracy: 0.9623WARNING:tensorflow:Learning rate reduction is conditioned on metric `val_acc` which is not available. Available metrics are: loss,accuracy,val_loss,val_accuracy,lr\n",
            "176/176 [==============================] - 13s 74ms/step - loss: 0.1514 - accuracy: 0.9624 - val_loss: 1.7007 - val_accuracy: 0.4300 - lr: 1.0000e-04\n",
            "Epoch 3/16\n",
            "175/176 [============================>.] - ETA: 0s - loss: 0.1056 - accuracy: 0.9749WARNING:tensorflow:Learning rate reduction is conditioned on metric `val_acc` which is not available. Available metrics are: loss,accuracy,val_loss,val_accuracy,lr\n",
            "176/176 [==============================] - 13s 76ms/step - loss: 0.1055 - accuracy: 0.9749 - val_loss: 1.1690 - val_accuracy: 0.4949 - lr: 1.0000e-04\n",
            "Epoch 4/16\n",
            "176/176 [==============================] - ETA: 0s - loss: 0.1054 - accuracy: 0.9784WARNING:tensorflow:Learning rate reduction is conditioned on metric `val_acc` which is not available. Available metrics are: loss,accuracy,val_loss,val_accuracy,lr\n",
            "176/176 [==============================] - 14s 77ms/step - loss: 0.1054 - accuracy: 0.9784 - val_loss: 0.0630 - val_accuracy: 0.9949 - lr: 1.0000e-04\n",
            "Epoch 5/16\n",
            "175/176 [============================>.] - ETA: 0s - loss: 0.0891 - accuracy: 0.9874WARNING:tensorflow:Learning rate reduction is conditioned on metric `val_acc` which is not available. Available metrics are: loss,accuracy,val_loss,val_accuracy,lr\n",
            "176/176 [==============================] - 14s 80ms/step - loss: 0.0903 - accuracy: 0.9863 - val_loss: 0.0815 - val_accuracy: 0.9846 - lr: 1.0000e-04\n",
            "Epoch 6/16\n",
            "175/176 [============================>.] - ETA: 0s - loss: 0.0656 - accuracy: 0.9954WARNING:tensorflow:Learning rate reduction is conditioned on metric `val_acc` which is not available. Available metrics are: loss,accuracy,val_loss,val_accuracy,lr\n",
            "176/176 [==============================] - 13s 76ms/step - loss: 0.0655 - accuracy: 0.9954 - val_loss: 0.0542 - val_accuracy: 0.9983 - lr: 1.0000e-04\n",
            "Epoch 7/16\n",
            "175/176 [============================>.] - ETA: 0s - loss: 0.0635 - accuracy: 0.9931WARNING:tensorflow:Learning rate reduction is conditioned on metric `val_acc` which is not available. Available metrics are: loss,accuracy,val_loss,val_accuracy,lr\n",
            "176/176 [==============================] - 13s 77ms/step - loss: 0.0634 - accuracy: 0.9932 - val_loss: 0.0536 - val_accuracy: 1.0000 - lr: 1.0000e-04\n",
            "Epoch 8/16\n",
            "175/176 [============================>.] - ETA: 0s - loss: 0.0707 - accuracy: 0.9874WARNING:tensorflow:Learning rate reduction is conditioned on metric `val_acc` which is not available. Available metrics are: loss,accuracy,val_loss,val_accuracy,lr\n",
            "176/176 [==============================] - 13s 77ms/step - loss: 0.0707 - accuracy: 0.9875 - val_loss: 0.0986 - val_accuracy: 0.9795 - lr: 1.0000e-04\n",
            "Epoch 9/16\n",
            "175/176 [============================>.] - ETA: 0s - loss: 0.0640 - accuracy: 0.9954WARNING:tensorflow:Learning rate reduction is conditioned on metric `val_acc` which is not available. Available metrics are: loss,accuracy,val_loss,val_accuracy,lr\n",
            "176/176 [==============================] - 13s 76ms/step - loss: 0.0639 - accuracy: 0.9954 - val_loss: 0.0535 - val_accuracy: 0.9983 - lr: 1.0000e-04\n",
            "Epoch 10/16\n",
            "175/176 [============================>.] - ETA: 0s - loss: 0.0553 - accuracy: 0.9966WARNING:tensorflow:Learning rate reduction is conditioned on metric `val_acc` which is not available. Available metrics are: loss,accuracy,val_loss,val_accuracy,lr\n",
            "176/176 [==============================] - 13s 76ms/step - loss: 0.0552 - accuracy: 0.9966 - val_loss: 0.0496 - val_accuracy: 0.9966 - lr: 1.0000e-04\n",
            "Epoch 11/16\n",
            "175/176 [============================>.] - ETA: 0s - loss: 0.0495 - accuracy: 0.9977WARNING:tensorflow:Learning rate reduction is conditioned on metric `val_acc` which is not available. Available metrics are: loss,accuracy,val_loss,val_accuracy,lr\n",
            "176/176 [==============================] - 13s 75ms/step - loss: 0.0494 - accuracy: 0.9977 - val_loss: 0.0501 - val_accuracy: 0.9983 - lr: 1.0000e-04\n",
            "Epoch 12/16\n",
            "175/176 [============================>.] - ETA: 0s - loss: 0.0638 - accuracy: 0.9931WARNING:tensorflow:Learning rate reduction is conditioned on metric `val_acc` which is not available. Available metrics are: loss,accuracy,val_loss,val_accuracy,lr\n",
            "176/176 [==============================] - 13s 75ms/step - loss: 0.0640 - accuracy: 0.9932 - val_loss: 0.0574 - val_accuracy: 0.9932 - lr: 1.0000e-04\n",
            "Epoch 13/16\n",
            "175/176 [============================>.] - ETA: 0s - loss: 0.0522 - accuracy: 0.9977WARNING:tensorflow:Learning rate reduction is conditioned on metric `val_acc` which is not available. Available metrics are: loss,accuracy,val_loss,val_accuracy,lr\n",
            "176/176 [==============================] - 13s 76ms/step - loss: 0.0521 - accuracy: 0.9977 - val_loss: 0.0502 - val_accuracy: 0.9966 - lr: 1.0000e-04\n",
            "Epoch 14/16\n",
            "175/176 [============================>.] - ETA: 0s - loss: 0.0564 - accuracy: 0.9943WARNING:tensorflow:Learning rate reduction is conditioned on metric `val_acc` which is not available. Available metrics are: loss,accuracy,val_loss,val_accuracy,lr\n",
            "176/176 [==============================] - 13s 76ms/step - loss: 0.0564 - accuracy: 0.9943 - val_loss: 0.0510 - val_accuracy: 0.9966 - lr: 1.0000e-04\n",
            "Epoch 15/16\n",
            "175/176 [============================>.] - ETA: 0s - loss: 0.0499 - accuracy: 0.9966WARNING:tensorflow:Learning rate reduction is conditioned on metric `val_acc` which is not available. Available metrics are: loss,accuracy,val_loss,val_accuracy,lr\n",
            "176/176 [==============================] - 13s 76ms/step - loss: 0.0501 - accuracy: 0.9966 - val_loss: 0.0532 - val_accuracy: 0.9932 - lr: 1.0000e-04\n",
            "Epoch 16/16\n",
            "175/176 [============================>.] - ETA: 0s - loss: 0.0453 - accuracy: 1.0000WARNING:tensorflow:Learning rate reduction is conditioned on metric `val_acc` which is not available. Available metrics are: loss,accuracy,val_loss,val_accuracy,lr\n",
            "176/176 [==============================] - 13s 75ms/step - loss: 0.0453 - accuracy: 1.0000 - val_loss: 0.0497 - val_accuracy: 0.9966 - lr: 1.0000e-04\n",
            "Final Loss: 0.04965583235025406, Final Accuracy: 0.9965870380401611\n"
          ]
        },
        {
          "output_type": "execute_result",
          "data": {
            "text/plain": [
              "'\\nmodel=load_model(\\'newmodel.h5\\')\\nimg = cv2.imread(\"./test/weed (1).jpg\")\\nimg = cv2.resize(img,(IMAGE_SIZE,IMAGE_SIZE))\\nimg = img.reshape(1,IMAGE_SIZE,IMAGE_SIZE,3)\\nprint(model.predict([img])[0])\\n\\n\\nY_pred = model.predict(X_val)\\n\\nY_pred = np.argmax(Y_pred, axis=1)\\nY_true = np.argmax(Y_val, axis=1)\\n\\ncm = confusion_matrix(Y_true, Y_pred)\\nplt.figure(figsize=(12, 12))\\n\\nax = sns.heatmap(cm, cmap=plt.cm.Greens, annot=True, square=True, xticklabels=species, yticklabels=species)\\nax.set_ylabel(\\'Actual\\', fontsize=40)\\nax.set_xlabel(\\'Predicted\\', fontsize=40)\\nplt.show()'"
            ],
            "application/vnd.google.colaboratory.intrinsic+json": {
              "type": "string"
            }
          },
          "metadata": {},
          "execution_count": 1
        }
      ]
    },
    {
      "cell_type": "code",
      "source": [
        "model=load_model('potmodel.h5')\n",
        "img = cv2.imread(\"/content/sample_data/test/001_image.png\")\n",
        "img = cv2.resize(img,(IMAGE_SIZE,IMAGE_SIZE))\n",
        "img = img.reshape(1,IMAGE_SIZE,IMAGE_SIZE,3)\n",
        "print(model.predict([img])[0])\n",
        "\n",
        "\n",
        "Y_pred = model.predict(X_val)\n",
        "\n",
        "Y_pred = np.argmax(Y_pred, axis=1)\n",
        "Y_true = np.argmax(Y_val, axis=1)\n",
        "\n",
        "cm = confusion_matrix(Y_true, Y_pred)\n",
        "plt.figure(figsize=(12, 12))\n",
        "\n",
        "ax = sns.heatmap(cm, cmap=plt.cm.Greens, annot=True, square=True, xticklabels=species, yticklabels=species)\n",
        "ax.set_ylabel('Actual', fontsize=40)\n",
        "ax.set_xlabel('Predicted', fontsize=40)\n",
        "plt.show()\n",
        "\n",
        "history.history['accuracy']"
      ],
      "metadata": {
        "colab": {
          "base_uri": "https://localhost:8080/",
          "height": 886
        },
        "id": "z7NcHnGGRA9L",
        "outputId": "a127c31c-dbd7-4965-c3b9-5602289d352e"
      },
      "execution_count": 8,
      "outputs": [
        {
          "output_type": "stream",
          "name": "stdout",
          "text": [
            "[1. 0.]\n"
          ]
        },
        {
          "output_type": "display_data",
          "data": {
            "text/plain": [
              "<Figure size 864x864 with 2 Axes>"
            ],
            "image/png": "[encoded data removed]"
          },
          "metadata": {
            "needs_background": "light"
          }
        },
        {
          "output_type": "error",
          "ename": "NameError",
          "evalue": "ignored",
          "traceback": [
            "\u001b[0;31m---------------------------------------------------------------------------\u001b[0m",
            "\u001b[0;31mNameError\u001b[0m                                 Traceback (most recent call last)",
            "\u001b[0;32m<ipython-input-8-3da208f269cd>\u001b[0m in \u001b[0;36m<module>\u001b[0;34m()\u001b[0m\n\u001b[1;32m     19\u001b[0m \u001b[0mplt\u001b[0m\u001b[0;34m.\u001b[0m\u001b[0mshow\u001b[0m\u001b[0;34m(\u001b[0m\u001b[0;34m)\u001b[0m\u001b[0;34m\u001b[0m\u001b[0;34m\u001b[0m\u001b[0m\n\u001b[1;32m     20\u001b[0m \u001b[0;34m\u001b[0m\u001b[0m\n\u001b[0;32m---> 21\u001b[0;31m \u001b[0mhistory\u001b[0m\u001b[0;34m.\u001b[0m\u001b[0mhistory\u001b[0m\u001b[0;34m[\u001b[0m\u001b[0;34m'accuracy'\u001b[0m\u001b[0;34m]\u001b[0m\u001b[0;34m\u001b[0m\u001b[0;34m\u001b[0m\u001b[0m\n\u001b[0m",
            "\u001b[0;31mNameError\u001b[0m: name 'history' is not defined"
          ]
        }
      ]
    }
  ]
}